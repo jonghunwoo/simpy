{
 "cells": [
  {
   "cell_type": "code",
   "execution_count": 3,
   "metadata": {},
   "outputs": [],
   "source": [
    "import simpy\n",
    "import numpy as np"
   ]
  },
  {
   "cell_type": "markdown",
   "metadata": {},
   "source": [
    "# rhyme.code\n",
    "https://frhyme.github.io/python-lib/simpy_basic/"
   ]
  },
  {
   "cell_type": "code",
   "execution_count": 2,
   "metadata": {},
   "outputs": [
    {
     "name": "stdout",
     "output_type": "stream",
     "text": [
      "0.00 sec:      fast clock ticks\n",
      "0.00 sec:      slow clock ticks\n",
      "0.00 sec: very fast clock ticks\n",
      "0.10 sec: very fast clock ticks\n",
      "0.20 sec: very fast clock ticks\n",
      "0.30 sec: very fast clock ticks\n",
      "0.40 sec: very fast clock ticks\n",
      "0.50 sec:      fast clock ticks\n",
      "0.50 sec: very fast clock ticks\n",
      "0.60 sec: very fast clock ticks\n",
      "0.70 sec: very fast clock ticks\n",
      "0.80 sec: very fast clock ticks\n",
      "0.90 sec: very fast clock ticks\n",
      "1.00 sec: very fast clock ticks\n",
      "1.00 sec:      slow clock ticks\n",
      "1.00 sec:      fast clock ticks\n",
      "1.10 sec: very fast clock ticks\n",
      "1.20 sec: very fast clock ticks\n",
      "1.30 sec: very fast clock ticks\n",
      "1.40 sec: very fast clock ticks\n",
      "1.50 sec:      fast clock ticks\n",
      "1.50 sec: very fast clock ticks\n",
      "1.60 sec: very fast clock ticks\n",
      "1.70 sec: very fast clock ticks\n",
      "1.80 sec: very fast clock ticks\n",
      "1.90 sec: very fast clock ticks\n"
     ]
    }
   ],
   "source": [
    "## 내부에 loop와 yield가 있는 generator입니다. \n",
    "## simpy에서는 generator를 기본적으로 사용하는데, \n",
    "## generator는 yield를 포함한 연속된 명령 리스트? 라고 생각해도 상관없습니다. \n",
    "## yield: return something and hold \n",
    "def clock(env, name, tick):\n",
    "    while True:\n",
    "        ## clock generator가 한번 불러지면, 아래 행동을 수행 \n",
    "        print(\"{:.2f} sec: {} clock ticks\".format(env.now, name))\n",
    "        ## 넘겨 받는 시간만큼 멈춰둡니다. \n",
    "        yield env.timeout(tick)\n",
    "\n",
    "## Environment: simulation하려는 세계 \n",
    "env = simpy.Environment()\n",
    "\n",
    "## 아래 부분에서 함수를 넘겨준다고 생각할 수 있는데, 정확히는 함수가 아니라 generator를 넘겨주는 것임. \n",
    "## 0.5초마다 소리치는 클락\n",
    "fast_clock = clock(env, '     fast', 0.5)\n",
    "## 1초마다 소리치는 클락 \n",
    "slow_clock = clock(env, '     slow', 1)\n",
    "\n",
    "very_fast_clock = clock(env, 'very fast', 0.1)\n",
    "\n",
    "## 이 두 generator를 앞서 생성한 environment에 넘겨줍니다. \n",
    "env.process(fast_clock)\n",
    "env.process(slow_clock)\n",
    "env.process(very_fast_clock)\n",
    "\n",
    "## simulation 수행. 시간이 없으면 무한으로 돌기 때문에 until을 통해 끝나는 시간을 정해두는 것이 필요함. \n",
    "env.run(until=2)"
   ]
  },
  {
   "cell_type": "code",
   "execution_count": 4,
   "metadata": {},
   "outputs": [
    {
     "name": "stdout",
     "output_type": "stream",
     "text": [
      "Start parking at   0.0\n",
      "Stop  parking at   5.0\n",
      "Start driving at   5.0\n",
      "Stop  driving at   7.0\n",
      "Start parking at   7.0\n",
      "Stop  parking at  12.0\n",
      "Start driving at  12.0\n",
      "Stop  driving at  14.0\n",
      "Start parking at  14.0\n",
      "Stop  parking at  19.0\n",
      "Start driving at  19.0\n"
     ]
    }
   ],
   "source": [
    "## 5초 파킹하고, 2초 운전하는 시뮬레이션 \n",
    "def car(env):\n",
    "    while True:\n",
    "        print('Start parking at %5.1f' % env.now)\n",
    "        parking_duration = 5\n",
    "        #parking_duration = np.random.normal(5, 1)\n",
    "        yield env.timeout(parking_duration)\n",
    "        print('Stop  parking at %5.1f' % env.now)\n",
    "\n",
    "        print('Start driving at %5.1f' % env.now)\n",
    "        driving_duration = 2\n",
    "        #trip_duration = np.random.normal(2, 1)\n",
    "        yield env.timeout(driving_duration)\n",
    "        print('Stop  driving at %5.1f' % env.now)\n",
    "\n",
    "env = simpy.Environment()\n",
    "env.process(car(env))\n",
    "env.run(until=20)"
   ]
  },
  {
   "cell_type": "code",
   "execution_count": 7,
   "metadata": {},
   "outputs": [
    {
     "name": "stdout",
     "output_type": "stream",
     "text": [
      "start activity_1 at   0.00\n",
      "end   activity_1 at   5.13\n",
      "start activity_2 at   7.03\n",
      "end   activity_2 at  12.91\n",
      "start activity_3 at  14.98\n",
      "end   activity_3 at  20.41\n",
      "start activity_4 at  22.47\n",
      "end   activity_4 at  27.35\n",
      "start activity_5 at  29.20\n",
      "end   activity_5 at  36.50\n",
      "##############################\n",
      "process end\n"
     ]
    }
   ],
   "source": [
    "def business_process(env, activity_lst):\n",
    "    while True:\n",
    "        for act in activity_lst:\n",
    "            ## activity의 수행 시간은 triangulat dist를 따르며, \n",
    "            print('start {} at {:6.2f}'.format(act, env.now))\n",
    "            activity_time = np.random.triangular(left=3, right=10, mode=7)\n",
    "            yield env.timeout(activity_time)\n",
    "            print('end   {} at {:6.2f}'.format(act, env.now))\n",
    "            \n",
    "            ## activity를 transfer하는데 일정 시간이 소요된다고 가정함.\n",
    "            activity_transfer_time = np.random.triangular(left=1, right=3, mode=2)\n",
    "            yield env.timeout(activity_transfer_time)\n",
    "        print(\"#\"*30)\n",
    "        print(\"process end\")\n",
    "        ## 만약 여기 return 을 넣으면 여기서 generator가 그대로 종료됨 \n",
    "        ## 만약 n 번 수행하고 싶다면, while True 를 for 문으로 변경하고, 몇 번 종료 후 끝내는 형태로 해도 괜찮을듯. \n",
    "        return 'over'\n",
    "\n",
    "## environment setting\n",
    "env = simpy.Environment()\n",
    "\n",
    "bp1 = business_process(env, activity_lst=[ \"activity_{}\".format(i) for i in range(1, 6)])\n",
    "env.process(bp1)\n",
    "\n",
    "env.run(until=100)\n"
   ]
  },
  {
   "cell_type": "code",
   "execution_count": 9,
   "metadata": {},
   "outputs": [
    {
     "name": "stdout",
     "output_type": "stream",
     "text": [
      "student 2 arrived library at   2.90\n",
      "student 2 start to  study at   2.90\n",
      "student 3 arrived library at   4.11\n",
      "student 3 start to  study at   4.11\n",
      "#### library full at    4.11 ####\n",
      "student 0 arrived library at   4.82\n",
      "student 4 arrived library at   5.26\n",
      "student 1 arrived library at   5.83\n",
      "student 2 end   to  study at   8.27\n",
      "#### library seat available at   8.27 ####\n",
      "student 0 is waiting  during   3.44\n",
      "student 0 start to  study at   8.27\n",
      "#### library full at    8.27 ####\n",
      "student 3 end   to  study at   9.82\n",
      "#### library seat available at   9.82 ####\n",
      "student 4 is waiting  during   4.56\n",
      "student 4 start to  study at   9.82\n",
      "#### library full at    9.82 ####\n",
      "student 0 end   to  study at  17.33\n",
      "#### library seat available at  17.33 ####\n",
      "student 1 is waiting  during  11.50\n",
      "student 1 start to  study at  17.33\n",
      "#### library full at   17.33 ####\n",
      "student 4 end   to  study at  18.50\n",
      "#### library seat available at  18.50 ####\n",
      "student 1 end   to  study at  25.59\n",
      "#### library seat available at  25.59 ####\n"
     ]
    }
   ],
   "source": [
    "def Student(env, num, library, arrive_time):\n",
    "    ## 학생은 랜덤 시간 이후 도착 \n",
    "    yield env.timeout(arrive_time)\n",
    "    print(\"student {} arrived library at {:6.2f}\".format(num, env.now))\n",
    "    waiting_time = env.now\n",
    "\n",
    "    ## 아래와 같은 형태로 쓰면 자동으로 get, release가 된다.\n",
    "    ## 단, 다른 형태로 쓸 경우에는 req = library.request(), library.release(req) 로 해주어야 함. \n",
    "    with library.request() as req:\n",
    "        yield req ## resource를 사용이 가능하면 이 부분이 수행됨 \n",
    "        waiting_time = env.now - waiting_time\n",
    "        ## waiting_time이 0이 아닌 경우는 기다린 경우 \n",
    "        if waiting_time !=0:\n",
    "            print(\"student {} is waiting  during {:6.2f}\".format(num, waiting_time))\n",
    "        ## 얼마나 공부할지를 계산 \n",
    "        study_time = np.random.triangular(left=5, right=10, mode=8)\n",
    "        print(\"student {} start to  study at {:6.2f}\".format(num, env.now))\n",
    "        ## 학생이 공부를 시작했고 => 현재 도서관이 꽉 차 있을 경우 꽉 차있다는 것을 표현 \n",
    "        if library.capacity == library.count:\n",
    "            print(\"#### library full at  {:6.2f} ####\".format(env.now))\n",
    "        yield env.timeout(study_time)\n",
    "        print(\"student {} end   to  study at {:6.2f}\".format(num, env.now))\n",
    "        print(\"#### library seat available at {:6.2f} ####\".format(env.now))\n",
    "        \n",
    "env = simpy.Environment()\n",
    "library = simpy.Resource(env, capacity=2)\n",
    "\n",
    "for i in range(0, 5):\n",
    "    arrive_time = np.random.triangular(left=1, right=8, mode=3)\n",
    "    stu = Student(env, i, library, arrive_time)\n",
    "    env.process(stu)\n",
    "\n",
    "env.run(until=50)"
   ]
  },
  {
   "cell_type": "code",
   "execution_count": 10,
   "metadata": {},
   "outputs": [
    {
     "name": "stdout",
     "output_type": "stream",
     "text": [
      "start act_0 at   0.00\n",
      "    subprocess start at   0.00\n",
      "        subsubprocess start at   0.00\n",
      "        subsubprocess over  at   2.99\n",
      "        subsubprocess start at   2.99\n",
      "        subsubprocess over  at   5.73\n",
      "    subprocess over  at   5.73\n",
      "end   act_0 at   5.73\n",
      "start act_1 at   7.68\n",
      "    subprocess start at   7.68\n",
      "        subsubprocess start at   7.68\n",
      "        subsubprocess over  at  10.45\n",
      "        subsubprocess start at  10.45\n",
      "        subsubprocess over  at  12.87\n",
      "    subprocess over  at  12.87\n",
      "end   act_1 at  12.87\n",
      "start act_2 at  15.09\n",
      "    subprocess start at  15.09\n",
      "        subsubprocess start at  15.09\n",
      "        subsubprocess over  at  17.81\n",
      "        subsubprocess start at  17.81\n",
      "        subsubprocess over  at  20.74\n",
      "    subprocess over  at  20.74\n",
      "end   act_2 at  20.74\n",
      "process instance ends\n",
      "##############################\n"
     ]
    }
   ],
   "source": [
    "## 물론 이 아래 부분을 클래스로 구현을 해도 좋지만 일단은 이해를 위해서 다 함수로 표현함 \n",
    "def subsubprocess(env):\n",
    "    ## process의 개별 activity는 subprocess로 구성되어 있습니다. \n",
    "    print('        subsubprocess start at {:6.2f}'.format(env.now))\n",
    "    for i in range(0, 2):\n",
    "        execution_time = np.random.triangular(left=1, right=2, mode=1)\n",
    "        yield env.timeout(execution_time)\n",
    "    print('        subsubprocess over  at {:6.2f}'.format(env.now))\n",
    "def subprocess(env):\n",
    "    ## process의 개별 activity는 subprocess로 구성되어 있습니다. \n",
    "    print('    subprocess start at {:6.2f}'.format(env.now))\n",
    "    for i in range(0, 2):\n",
    "        yield env.process(subsubprocess(env))\n",
    "    print('    subprocess over  at {:6.2f}'.format(env.now))\n",
    "    \n",
    "def process(env, activity_lst):\n",
    "    while True:\n",
    "        for act in activity_lst:\n",
    "            print(\"start {} at {:6.2f}\".format(act, env.now))\n",
    "            execution_time = np.random.triangular(left=3, right=10, mode=6)\n",
    "            ## 모든 activity는 subprocess라고 생각한다.\n",
    "            ## subprocess(env)가 종료되어야 다음 스텝으로 넘어감\n",
    "            ## 즉 일종의 waiting for other process를 구현했다고 보면 됨 \n",
    "            yield env.process(subprocess(env))\n",
    "            ##############\n",
    "            print(\"end   {} at {:6.2f}\".format(act, env.now))\n",
    "            transfer_time = np.random.triangular(left=1, right=3, mode=2)\n",
    "            yield env.timeout(transfer_time)\n",
    "        print('process instance ends')\n",
    "        print('#'*30)\n",
    "        return None\n",
    "###########\n",
    "env = simpy.Environment()\n",
    "process1 = process(env, [\"act_{}\".format(i) for i in range(0, 3)])\n",
    "env.process(process1)\n",
    "env.run(50)"
   ]
  },
  {
   "cell_type": "markdown",
   "metadata": {},
   "source": [
    "# Grotto Networking\n",
    "https://www.grotto-networking.com/DiscreteEventPython.html#Ex1GenSink"
   ]
  },
  {
   "cell_type": "markdown",
   "metadata": {},
   "source": [
    "Random Variables in Python and SciPy"
   ]
  },
  {
   "cell_type": "code",
   "execution_count": 11,
   "metadata": {},
   "outputs": [
    {
     "name": "stdout",
     "output_type": "stream",
     "text": [
      "Here is a single sample from a uniform random variable\n",
      "0.7369439733943873\n",
      "Here is a list of three samples:\n",
      "[0.822164208020797, 0.8538773903654878, 0.8897529964527788]\n",
      "Here is a list of three exponential samples:\n",
      "[2.163069743447218, 0.13974026068611362, 0.6272290480173499]\n"
     ]
    }
   ],
   "source": [
    "import random\n",
    "\n",
    "print(\"Here is a single sample from a uniform random variable\")\n",
    "print(random.random())\n",
    "print(\"Here is a list of three samples:\")\n",
    "uniSamples = [random.random(), random.random(), random.random()]\n",
    "print(uniSamples)\n",
    "print(\"Here is a list of three exponential samples:\")\n",
    "expSamples = [random.expovariate(1.0), random.expovariate(1.0), random.expovariate(1.0)]\n",
    "print(expSamples)"
   ]
  },
  {
   "cell_type": "markdown",
   "metadata": {},
   "source": [
    "Visualizing Distributions: Histograms with Matplotlib"
   ]
  },
  {
   "cell_type": "code",
   "execution_count": 14,
   "metadata": {},
   "outputs": [
    {
     "name": "stdout",
     "output_type": "stream",
     "text": [
      "[0.11208624865407946, 0.734925783279528, 0.17802137809433383, 0.6732630453168502, 0.5534202727940619, 0.4657093877932572, 0.7106253387674061, 0.6141211398870692, 0.4044308190860031, 0.3184428192447707]\n"
     ]
    },
    {
     "data": {
      "image/png": "[encoded data removed]",
      "text/plain": [
       "<matplotlib.figure.Figure at 0x7ffa48ba58d0>"
      ]
     },
     "metadata": {},
     "output_type": "display_data"
    }
   ],
   "source": [
    "import matplotlib.pyplot as plt\n",
    "\n",
    "uniSamples = [random.random() for i in range(100000)]\n",
    "print(uniSamples[0:10])  #Take a look at the first 10\n",
    "fig, axis = plt.subplots()\n",
    "axis.hist(uniSamples, bins=100, normed=True)\n",
    "axis.set_title(\"Histogram for uniform random number generator\")\n",
    "axis.set_xlabel(\"x\")\n",
    "axis.set_ylabel(\"normalized frequency of occurrence\")\n",
    "#fig.savefig(\"UniformHistogram.png\")\n",
    "plt.show()"
   ]
  },
  {
   "cell_type": "code",
   "execution_count": 13,
   "metadata": {},
   "outputs": [
    {
     "name": "stdout",
     "output_type": "stream",
     "text": [
      "[10.511467802559109, 6.909917537794648, 12.43291125214551, 14.1607917633737, 10.890813024128443, 6.273124621973809, 8.413196765556052, 8.174208390916425, 9.155500015611803, 8.086529441435813]\n"
     ]
    },
    {
     "data": {
      "image/png": "[encoded data removed]",
      "text/plain": [
       "<matplotlib.figure.Figure at 0x7ffa8918d6d8>"
      ]
     },
     "metadata": {},
     "output_type": "display_data"
    }
   ],
   "source": [
    "normSamples = [random.normalvariate(9.0, 2.0) for i in range(100000)]\n",
    "print(normSamples[0:10])  #Take a look at the first 10\n",
    "fig, axis = plt.subplots()\n",
    "axis.hist(normSamples, bins=100, normed=True)\n",
    "axis.set_title(r\"Histogram of an Normal RNG $\\mu = 9$ and $\\sigma = 2$\")\n",
    "axis.set_xlabel(\"x\")\n",
    "axis.set_ylabel(\"normalized frequency of occurrence\")\n",
    "plt.show()"
   ]
  },
  {
   "cell_type": "markdown",
   "metadata": {},
   "source": [
    "Example 1: Two Packet Generators and a Sink"
   ]
  },
  {
   "cell_type": "code",
   "execution_count": 17,
   "metadata": {},
   "outputs": [
    {
     "name": "stdout",
     "output_type": "stream",
     "text": [
      "id: 1, src: EE283, time: 1.5, size: 68.24891559942742\n",
      "id: 1, src: SJSU, time: 2.0, size: 173.2066445724934\n",
      "id: 2, src: EE283, time: 3.0, size: 76.60599738870125\n",
      "id: 2, src: SJSU, time: 4.0, size: 82.47202307578965\n",
      "id: 3, src: EE283, time: 4.5, size: 169.09063190605312\n",
      "id: 3, src: SJSU, time: 6.0, size: 5.297181770359698\n",
      "id: 4, src: EE283, time: 6.0, size: 48.92638367071149\n",
      "id: 5, src: EE283, time: 7.5, size: 26.953056324602088\n",
      "id: 4, src: SJSU, time: 8.0, size: 103.49135577378831\n",
      "id: 6, src: EE283, time: 9.0, size: 43.730997865791544\n",
      "id: 5, src: SJSU, time: 10.0, size: 83.93338603781352\n",
      "id: 7, src: EE283, time: 10.5, size: 56.622764489533196\n",
      "id: 6, src: SJSU, time: 12.0, size: 192.31761872873983\n",
      "id: 8, src: EE283, time: 12.0, size: 234.15930623519236\n",
      "id: 9, src: EE283, time: 13.5, size: 19.06897804930875\n",
      "id: 7, src: SJSU, time: 14.0, size: 318.4943079979064\n",
      "id: 10, src: EE283, time: 15.0, size: 128.1579968242948\n",
      "id: 8, src: SJSU, time: 16.0, size: 73.54267376084093\n",
      "id: 11, src: EE283, time: 16.5, size: 54.577149562615375\n",
      "id: 9, src: SJSU, time: 18.0, size: 93.88801658190549\n",
      "id: 12, src: EE283, time: 18.0, size: 258.1666077206187\n",
      "id: 13, src: EE283, time: 19.5, size: 235.17369991194883\n"
     ]
    }
   ],
   "source": [
    "from random import expovariate\n",
    "from SimComponents import PacketGenerator, PacketSink\n",
    "\n",
    "def constArrival():  # Constant arrival distribution for generator 1\n",
    "    return 1.5\n",
    "\n",
    "def constArrival2():\n",
    "    return 2.0\n",
    "\n",
    "def distSize():\n",
    "    return expovariate(0.01)\n",
    "\n",
    "env = simpy.Environment()  # Create the SimPy environment\n",
    "# Create the packet generators and sink\n",
    "ps = PacketSink(env, debug=True)  # debugging enable for simple output\n",
    "pg1 = PacketGenerator(env, \"EE283\", constArrival, distSize)\n",
    "pg2 = PacketGenerator(env, \"SJSU\", constArrival2, distSize)\n",
    "# Wire packet generators and sink together\n",
    "pg1.out = ps\n",
    "pg2.out = ps\n",
    "env.run(until=20)\n"
   ]
  },
  {
   "cell_type": "markdown",
   "metadata": {},
   "source": [
    "Example 2: Overloaded Switch Port"
   ]
  },
  {
   "cell_type": "code",
   "execution_count": 18,
   "metadata": {},
   "outputs": [
    {
     "name": "stdout",
     "output_type": "stream",
     "text": [
      "id: 1, src: SJSU, time: 1.5, size: 100.0\n",
      "id: 2, src: SJSU, time: 3.0, size: 100.0\n",
      "id: 3, src: SJSU, time: 4.5, size: 100.0\n",
      "id: 4, src: SJSU, time: 6.0, size: 100.0\n",
      "waits: [4.0, 6.5, 9.0, 11.5]\n",
      "received: 4, dropped 6, sent 13\n"
     ]
    }
   ],
   "source": [
    "from SimComponents import PacketGenerator, PacketSink, SwitchPort\n",
    "\n",
    "def constArrival():\n",
    "    return 1.5    # time interval\n",
    "\n",
    "def constSize():\n",
    "    return 100.0  # bytes\n",
    "\n",
    "env = simpy.Environment()  # Create the SimPy environment\n",
    "ps = PacketSink(env, debug=True) # debug: every packet arrival is printed\n",
    "pg = PacketGenerator(env, \"SJSU\", constArrival, constSize)\n",
    "switch_port = SwitchPort(env, rate=200.0, qlimit=300)\n",
    "# Wire packet generators and sinks together\n",
    "pg.out = switch_port\n",
    "switch_port.out = ps\n",
    "env.run(until=20)\n",
    "print(\"waits: {}\".format(ps.waits))\n",
    "print(\"received: {}, dropped {}, sent {}\".format(ps.packets_rec,\n",
    "     switch_port.packets_drop, pg.packets_sent))"
   ]
  },
  {
   "cell_type": "markdown",
   "metadata": {},
   "source": [
    "Example 3: An M/M/1 Queueing System"
   ]
  },
  {
   "cell_type": "code",
   "execution_count": 19,
   "metadata": {},
   "outputs": [
    {
     "name": "stdout",
     "output_type": "stream",
     "text": [
      "Last 10 waits: 0.310, 0.214, 0.907, 1.426, 0.245, 1.492, 1.543, 1.354, 1.209, 1.131\n",
      "Last 10 queue sizes: [0, 1, 0, 0, 0, 0, 0, 0, 0, 1]\n",
      "Last 10 sink arrival times: 2.299, 0.397, 7.196, 0.888, 1.641, 2.285, 0.264, 0.074, 3.774, 5.148\n",
      "average wait = 1.310\n",
      "received: 3926, dropped 0, sent 3926\n",
      "loss rate: 0.0\n",
      "average system occupancy: 0.638\n"
     ]
    }
   ],
   "source": [
    "import random\n",
    "import functools\n",
    "import simpy\n",
    "import matplotlib.pyplot as plt\n",
    "from SimComponents import PacketGenerator, PacketSink, SwitchPort, PortMonitor\n",
    "\n",
    "adist = functools.partial(random.expovariate, 0.5)\n",
    "sdist = functools.partial(random.expovariate, 0.01)  # mean size 100 bytes\n",
    "samp_dist = functools.partial(random.expovariate, 1.0)\n",
    "port_rate = 1000.0\n",
    "\n",
    "env = simpy.Environment()  # Create the SimPy environment\n",
    "# Create the packet generators and sink\n",
    "ps = PacketSink(env, debug=False, rec_arrivals=True)\n",
    "pg = PacketGenerator(env, \"Greg\", adist, sdist)\n",
    "switch_port = SwitchPort(env, port_rate, qlimit=10000)\n",
    "# Using a PortMonitor to track queue sizes over time\n",
    "pm = PortMonitor(env, switch_port, samp_dist)\n",
    "# Wire packet generators, switch ports, and sinks together\n",
    "pg.out = switch_port\n",
    "switch_port.out = ps\n",
    "# Run it\n",
    "env.run(until=8000)\n",
    "print(\"Last 10 waits: \"  + \", \".join([\"{:.3f}\".format(x) for x in ps.waits[-10:]]))\n",
    "print(\"Last 10 queue sizes: {}\".format(pm.sizes[-10:]))\n",
    "print(\"Last 10 sink arrival times: \" + \", \".join([\"{:.3f}\".format(x) for x in ps.arrivals[-10:]]))\n",
    "print(\"average wait = {:.3f}\".format(sum(ps.waits)/len(ps.waits)))\n",
    "print(\"received: {}, dropped {}, sent {}\".format(switch_port.packets_rec, switch_port.packets_drop, pg.packets_sent))\n",
    "print(\"loss rate: {}\".format(float(switch_port.packets_drop)/switch_port.packets_rec))\n",
    "print(\"average system occupancy: {:.3f}\".format(float(sum(pm.sizes))/len(pm.sizes)))\n"
   ]
  },
  {
   "cell_type": "code",
   "execution_count": null,
   "metadata": {},
   "outputs": [],
   "source": [
    "Simulating & Analyzing Networks of Queues"
   ]
  },
  {
   "cell_type": "code",
   "execution_count": 20,
   "metadata": {},
   "outputs": [
    {
     "name": "stdout",
     "output_type": "stream",
     "text": [
      "[2.0144142574276884, 0.7633006927512724, 0.29231080580257185, 1.3776344171437813, 1.9697857578653384, 0.5769779545289566, 0.35530552346654076, 0.4452706364345431, 0.013437754066217167, 0.5117381792679225]\n",
      "average wait source 1 to output 3 = 6.625285259993739\n",
      "average wait source 2 to output 4 = 0.7953334275255841\n",
      "packets sent 9942\n",
      "packets received: 2018\n"
     ]
    }
   ],
   "source": [
    "from SimComponents import PacketGenerator, PacketSink, SwitchPort, RandomBrancher\n",
    "\n",
    "\n",
    "if __name__ == '__main__':\n",
    "    # Set up arrival and packet size distributions\n",
    "    # Using Python functools to create callable functions for random variates with fixed parameters.\n",
    "    # each call to these will produce a new random value.\n",
    "    mean_pkt_size = 100.0  # in bytes\n",
    "    adist1 = functools.partial(random.expovariate, 2.0)\n",
    "    adist2 = functools.partial(random.expovariate, 0.5)\n",
    "    adist3 = functools.partial(random.expovariate, 0.6)\n",
    "    sdist = functools.partial(random.expovariate, 1.0/mean_pkt_size)\n",
    "    samp_dist = functools.partial(random.expovariate, 0.50)\n",
    "    port_rate = 2.2*8*mean_pkt_size  # want a rate of 2.2 packets per second\n",
    "\n",
    "    # Create the SimPy environment. This is the thing that runs the simulation.\n",
    "    env = simpy.Environment()\n",
    "\n",
    "    # Create the packet generators and sink\n",
    "    def selector(pkt):\n",
    "        return pkt.src == \"SJSU1\"\n",
    "\n",
    "    def selector2(pkt):\n",
    "        return pkt.src == \"SJSU2\"\n",
    "    ps1 = PacketSink(env, debug=False, rec_arrivals=True, selector=selector)\n",
    "    ps2 = PacketSink(env, debug=False, rec_waits=True, selector=selector2)\n",
    "    pg1 = PacketGenerator(env, \"SJSU1\", adist1, sdist)\n",
    "    pg2 = PacketGenerator(env, \"SJSU2\", adist2, sdist)\n",
    "    pg3 = PacketGenerator(env, \"SJSU3\", adist3, sdist)\n",
    "    branch1 = RandomBrancher(env, [0.75, 0.25])\n",
    "    branch2 = RandomBrancher(env, [0.65, 0.35])\n",
    "    switch_port1 = SwitchPort(env, port_rate)\n",
    "    switch_port2 = SwitchPort(env, port_rate)\n",
    "    switch_port3 = SwitchPort(env, port_rate)\n",
    "    switch_port4 = SwitchPort(env, port_rate)\n",
    "\n",
    "    # Wire packet generators, switch ports, and sinks together\n",
    "    pg1.out = switch_port1\n",
    "    switch_port1.out = branch1\n",
    "    branch1.outs[0] = switch_port2\n",
    "    switch_port2.out = branch2\n",
    "    branch2.outs[0] = switch_port3\n",
    "    branch2.outs[1] = switch_port4\n",
    "    pg3.out = switch_port3\n",
    "    pg2.out = switch_port4\n",
    "    switch_port3.out = ps1\n",
    "    switch_port4.out = ps2\n",
    "    # Run it\n",
    "    env.run(until=4000)\n",
    "    print(ps2.waits[-10:])\n",
    "    # print pm.sizes[-10:]\n",
    "    # print ps.arrivals[-10:]\n",
    "    print(\"average wait source 1 to output 3 = {}\".format(sum(ps1.waits)/len(ps1.waits)))\n",
    "    print(\"average wait source 2 to output 4 = {}\".format(sum(ps2.waits)/len(ps2.waits)))\n",
    "    print(\"packets sent {}\".format(pg1.packets_sent + pg2.packets_sent))\n",
    "    print(\"packets received: {}\".format(len(ps2.waits)))\n",
    "    # print \"average system occupancy: {}\".format(float(sum(pm.sizes))/len(pm.sizes))"
   ]
  },
  {
   "cell_type": "markdown",
   "metadata": {},
   "source": [
    "# Simpy queue simulation\n",
    "https://stackoverflow.com/questions/49732721/simpy-queue-simulation"
   ]
  },
  {
   "cell_type": "code",
   "execution_count": null,
   "metadata": {},
   "outputs": [],
   "source": [
    "RANDOM_SEED = 42\n",
    "NEW_CUSTOMERS = 100  # Total number of customers\n",
    "INTERVAL_CUSTOMERS = 1  # Generate new customers roughly every x seconds\n",
    "SIZE = 1250\n",
    "\n",
    "def source(env, number, interval, port):\n",
    "    \"\"\"Source generates packet randomly\"\"\"\n",
    "    for i in range(number):\n",
    "        size =  int(random.expovariate(0.0008))\n",
    "        packet = Packet(env, '%d' % i, size, port, time_in_port=1)\n",
    "        env.process(packet)\n",
    "        t = random.expovariate(1 / interval)\n",
    "        yield env.timeout(t)\n",
    "\n",
    "def Packet(env, id, size, port, time_in_port):\n",
    "    arrive = env.now\n",
    "    yield Queue.buffer.put(size)\n",
    "    print('packet%s %s arriving at %lf' % (id, size, arrive))\n",
    "\n",
    "    with port.request() as req:\n",
    "        yield req\n",
    "\n",
    "        tip = random.expovariate(1/time_in_port)\n",
    "        yield env.timeout(tip)\n",
    "        amount = size\n",
    "        yield Queue.buffer.get(amount)\n",
    "        print('packet%s %s finished processing at %lf' % (id, size, env.now))\n",
    "\n",
    "class queue:     #THIS PART WON'T WORK\n",
    "    def __init__(self, env):\n",
    "        self.port = simpy.Resource(env, capacity=1)\n",
    "        self.buffer = simpy.Container(env, init = 0, capacity=12500)\n",
    "        self.mon_proc = env.process(self.monitor_tank(env))\n",
    "\n",
    "    def monitor_tank(self, env):\n",
    "        while True:\n",
    "           if self.buffer.level > 12500:\n",
    "             print('Full at %d' % env.now)\n",
    "\n",
    "\n",
    "random.seed(RANDOM_SEED)\n",
    "env = simpy.Environment()\n",
    "Queue = queue(env)\n",
    "\n",
    "port = simpy.Resource(env, capacity=1)\n",
    "env.process(source(env, NEW_CUSTOMERS, INTERVAL_CUSTOMERS, port))\n",
    "env.run()"
   ]
  }
 ],
 "metadata": {
  "kernelspec": {
   "display_name": "Python 3",
   "language": "python",
   "name": "python3"
  },
  "language_info": {
   "codemirror_mode": {
    "name": "ipython",
    "version": 3
   },
   "file_extension": ".py",
   "mimetype": "text/x-python",
   "name": "python",
   "nbconvert_exporter": "python",
   "pygments_lexer": "ipython3",
   "version": "3.5.4"
  }
 },
 "nbformat": 4,
 "nbformat_minor": 2
}
